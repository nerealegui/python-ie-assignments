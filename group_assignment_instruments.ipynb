{
 "cells": [
  {
   "cell_type": "markdown",
   "id": "fbad2e33-75b2-44ef-a9e7-ac20e1c78799",
   "metadata": {},
   "source": [
    "# Group assignment\n",
    "\n",
    "Instructions:\n",
    "* Complete the exercises in this notebook\n",
    "* Submit your work in a ZIP file \"group_assignment_G{GROUP}.zip\", containing the following:\n",
    "    * The completed notebook\n",
    "    * The original dataset \n",
    "    * The JSON file from exercise 6: `ratings_dictionary.json`\n",
    "* Post your questions on the #qa channel in Slack\n",
    "* Think that this is a report you're sending to your boss:\n",
    "    * Make it clear what you've done\n",
    "    * Use comments and explanations\n",
    "    * Explain to your groupmates your points and discuss the best approach\n",
    "    * Be aware that you'll present your results to me in class, and I'll ask everyone in the group about their participation.\n",
    "* Enjoy!"
   ]
  },
  {
   "cell_type": "markdown",
   "id": "d971d382-6174-4ff5-bc79-61cd5798ae43",
   "metadata": {},
   "source": [
    "## Description of dataset\n",
    "\n",
    "After the wine reviews, it's time for musical instruments reviews from Amazon. The data is a JSON file that contains reviews for different instruments from different buyers.\n",
    "\n",
    "The data contains the following information:\n",
    "1. reviewerID - ID of the reviewer, e.g. A2SUAM1J3GNN3B\n",
    "2. asin - ID of the product, e.g. 0000013714\n",
    "3. reviewerName - name of the reviewer\n",
    "4. helpful - helpfulness rating of the review, e.g. 2/3\n",
    "5. reviewText - text of the review\n",
    "6. overall - rating of the product\n",
    "7. summary - summary of the review\n",
    "8. unixReviewTime - time of the review (unix time)\n",
    "9. reviewTime - time of the review (raw), format: \"%m %d, %Y\""
   ]
  },
  {
   "cell_type": "markdown",
   "id": "843e1825-73e7-421d-bc3f-a6e32f08fc4e",
   "metadata": {},
   "source": [
    "## Exercise 1:\n",
    "Read the `json` file using using a variable called `instruments`.\n",
    "\n",
    "Create a new key-value pair in each dictionary contained in the `instruments`, with the following characteristics:\n",
    "* Key: \"classification\"\n",
    "* Value:\n",
    "    * if `overall`<=2, `classification` should be \"low\"\n",
    "    * if 2 < `overall` <= 4, `classification` should be \"medium\"\n",
    "    * if `overall` > 4, `classification` should be \"high\""
   ]
  },
  {
   "cell_type": "code",
   "execution_count": null,
   "id": "94a7c227-6627-4a36-a574-7c1e11eeabd8",
   "metadata": {},
   "outputs": [],
   "source": []
  },
  {
   "cell_type": "markdown",
   "id": "7b4b093e-ee3e-477d-9526-ce24b2d76a0c",
   "metadata": {
    "tags": []
   },
   "source": [
    "## Exercise 2:\n",
    "* How many reviews are available in the dataset?\n",
    "* Create a dictionary called `reviews_dict` with the following items:\n",
    "\n",
    "```Python\n",
    "ratings = {\n",
    "    \"0\": \"number of reviews with rating 0\",\n",
    "    \"1\": \"number of reviews with rating 1\",\n",
    "    \"2\": \"number of reviews with rating 2\",\n",
    "    \"3\": \"number of reviews with rating 3\",\n",
    "    \"4\": \"number of reviews with rating 4\",\n",
    "    \"5\": \"number of reviews with rating 5\"\n",
    "}\n",
    "```"
   ]
  },
  {
   "cell_type": "code",
   "execution_count": null,
   "id": "b88137b3-01bb-4677-8abe-5c02a101cd5e",
   "metadata": {},
   "outputs": [],
   "source": []
  },
  {
   "cell_type": "markdown",
   "id": "8faa3aec-a2b9-4260-8200-d6511ce9d7fc",
   "metadata": {},
   "source": [
    "## Exercise 3:\n",
    "\n",
    "Create a container that includes all the unique instruments (`asin` - ID of the product) reviewed in the dataset\n",
    "\n",
    "Create a dictionary called `products_rating` that has the following structure:\n",
    "* Keys: each unique product from the previous question\n",
    "* Values: a dictionary similar to `reviews_dict` in Exercise 2 but for that specific product\n",
    "\n",
    "```Python\n",
    "products_rating = {\n",
    "    \"asin_1\": {\"0\": n_ratings_0, \"1\": n_ratings_1, ..., \"5\": n_ratings_5},\n",
    "    \"asin_2\": {\"0\": n_ratings_0, \"1\": n_ratings_1, ..., \"5\": n_ratings_5},\n",
    "    ...\n",
    "    \"asin_N\": {\"0\": n_ratings_0, \"1\": n_ratings_1, ..., \"5\": n_ratings_5}\n",
    "}\n",
    "```"
   ]
  },
  {
   "cell_type": "code",
   "execution_count": null,
   "id": "3a0051e3-8b99-43ee-a0d1-843955efd14c",
   "metadata": {},
   "outputs": [],
   "source": []
  },
  {
   "cell_type": "markdown",
   "id": "8c5550e5-25e5-4d53-9a08-5a37718ac4c9",
   "metadata": {},
   "source": [
    "## Exercise 4:\n",
    "\n",
    "* What's the product (`asin`) with more reviews?\n",
    "* What's the product (`asin`) with the lowest average rating?"
   ]
  },
  {
   "cell_type": "code",
   "execution_count": null,
   "id": "d4574730-3633-4edf-8504-9a93c8375360",
   "metadata": {},
   "outputs": [],
   "source": []
  },
  {
   "cell_type": "markdown",
   "id": "6d373a1a-342c-4a51-a7f2-9684ff177c4d",
   "metadata": {},
   "source": [
    "## Exercise 5:\n",
    "Create a dictionary containing the unique `overall` ratings as keys and as values the average amount of words in the `reviewText` key of each review.\n",
    "\n",
    "Save this dictionary as a JSON file called `ratings_dictionary.json`"
   ]
  },
  {
   "cell_type": "code",
   "execution_count": null,
   "id": "b2d856cc-a5b4-4a7c-a527-7f84ce1ce580",
   "metadata": {
    "tags": []
   },
   "outputs": [],
   "source": []
  },
  {
   "cell_type": "markdown",
   "id": "1f96b4d0-75e2-45af-a5e5-bde294d9e5d2",
   "metadata": {},
   "source": [
    "## Exercise 6:\n",
    "Create a function that receives the `instruments` object and returns a dictionary containing for each unique rating the average word length in the `reviewText` key.\n",
    "\n",
    "For example, for this review:\n",
    "```Python\n",
    "[\n",
    "    {\n",
    "        ...\n",
    "        \"reviewText\": \"Very good stuff\"\n",
    "    }\n",
    "]\n",
    "```\n",
    "There are three words with lengths 4, 4, and 5, therefore the average length of word for that review would be (4+4+5)/3=4.33 characters per word. Don't remove special characters.\n",
    "\n",
    "Now you have to do the same, but the average word length for each independent rating, and create a dictionary out of that:\n",
    "\n",
    "```Python\n",
    "{\n",
    "    \"1\": \"average word length for all reviews with rating 1\",\n",
    "    \"2\": \"average word length for all reviews with rating 2\",\n",
    "    \"3\": \"average word length for all reviews with rating 3\",\n",
    "    \"4\": \"average word length for all reviews with rating 4\",\n",
    "    \"5\": \"average word length for all reviews with rating 5\",\n",
    "}\n",
    "```\n",
    "\n"
   ]
  },
  {
   "cell_type": "code",
   "execution_count": null,
   "id": "53bda03c-5e55-40d6-af41-f4949638f77f",
   "metadata": {},
   "outputs": [],
   "source": []
  },
  {
   "cell_type": "markdown",
   "id": "390d7737-7e63-4a47-877f-363ffc64327d",
   "metadata": {},
   "source": [
    "## Exercise 7:\n",
    "\n",
    "* What's the percentage of reviews with the word `price` included in `reviewText`?\n",
    "* What's the percentage of reviews with `overall` rating 1 that include the word `price`?\n",
    "* What's the percentage of reviews with `overall` rating 5 that include the word `price`?"
   ]
  },
  {
   "cell_type": "code",
   "execution_count": null,
   "id": "dfae37d2-582a-4e87-9b1c-13358dd9e0ec",
   "metadata": {},
   "outputs": [],
   "source": []
  }
 ],
 "metadata": {
  "kernelspec": {
   "display_name": "Python [conda env:ml2] *",
   "language": "python",
   "name": "conda-env-ml2-py"
  },
  "language_info": {
   "codemirror_mode": {
    "name": "ipython",
    "version": 3
   },
   "file_extension": ".py",
   "mimetype": "text/x-python",
   "name": "python",
   "nbconvert_exporter": "python",
   "pygments_lexer": "ipython3",
   "version": "3.8.12"
  }
 },
 "nbformat": 4,
 "nbformat_minor": 5
}
