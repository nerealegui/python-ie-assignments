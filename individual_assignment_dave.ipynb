{
 "cells": [
  {
   "cell_type": "markdown",
   "metadata": {},
   "source": [
    "# Individual Assignment\n",
    "\n",
    "We are going to run a small business, based on the videogame [Dave the diver](https://mintrocketgames.com/en/DaveTheDiver)\n",
    "\n",
    "In the game, we control Dave, a diver who dives into the ocean to get fishes and materials, and then runs a sushi restaurant were he sells the sushi for a profit.\n",
    "\n",
    "The game is divided into two parts:\n",
    "* The diving part, where Dave dives into the ocean to get fish and materials.\n",
    "* The sushi restaurant part, where Dave sells the fish for a profit.\n",
    "\n",
    "We are going to simulate this, in a limited environment."
   ]
  },
  {
   "cell_type": "markdown",
   "metadata": {},
   "source": [
    "## Rules\n",
    "\n",
    "* We have a limited amount of time to play the game (1h20m)\n",
    "* The submission must be a jupyter notebook with all the code and answers printed.\n",
    "* Only questions answered with code will be graded.\n",
    "* Every answer has to be displayed with `print(answer)`\n",
    "* Every exercise has the same grade\n",
    "* No AI tool is allowed, under any form. No communicating with other students is allowed. Failing to comply with this rule will result in a 0 grade and a report to the board.\n",
    "* You can use any other tool you want, including IDEs, documentation, google, etc."
   ]
  },
  {
   "cell_type": "markdown",
   "metadata": {},
   "source": [
    "## The diving part\n",
    "\n",
    "In this part, we are going to simulate Dave diving into the ocean to get fish and materials, which are the ingredients of the sushi. It's a videogame, so carrots, cucumber and avocado are also fished in the ocean.\n",
    "\n",
    "The materials he's fished in the last 5 days are the following:"
   ]
  },
  {
   "cell_type": "code",
   "execution_count": 1,
   "metadata": {},
   "outputs": [],
   "source": [
    "daily_catch = [\n",
    "    {\n",
    "        'day': 'day1', \n",
    "        'products': ['cucumber', 'tuna', 'avocado', 'shrimp', 'tuna', 'carrot', 'shrimp', 'tuna']\n",
    "    },\n",
    "    {\n",
    "        'day': 'day2',\n",
    "        'products': ['salmon', 'salmon', 'tuna', 'avocado', 'tuna', 'avocado', 'avocado', 'carrot']\n",
    "    },\n",
    "    {\n",
    "        'day': 'day3', \n",
    "        'products': ['salmon', 'shrimp', 'avocado', 'salmon', 'shrimp', 'carrot', 'shrimp', 'cucumber']\n",
    "    },\n",
    "    {\n",
    "        'day': 'day4',\n",
    "        'products': ['shrimp', 'shrimp', 'salmon', 'avocado', 'carrot', 'salmon', 'avocado', 'cucumber']\n",
    "    },\n",
    "    {\n",
    "        'day': 'day5',\n",
    "        'products': ['tuna', 'tuna', 'shrimp', 'avocado', 'tuna', 'avocado', 'carrot', 'tuna']\n",
    "    }\n",
    "]"
   ]
  },
  {
   "cell_type": "markdown",
   "metadata": {},
   "source": [
    "### Exercise 1\n",
    "\n",
    "Which are the unique products Dave has fished in the last 5 days?\n",
    "\n",
    "**Hint**: in sets, we can use `update` to add multiple elements at once.\n",
    "\n",
    "The solution must be a set with the unique products.\n",
    "\n",
    "```python\n",
    "{'cucumber', 'avocado', 'salmon', 'carrot', 'tuna', 'shrimp'}\n",
    "```"
   ]
  },
  {
   "cell_type": "code",
   "execution_count": null,
   "metadata": {},
   "outputs": [],
   "source": []
  },
  {
   "cell_type": "markdown",
   "metadata": {},
   "source": [
    "### Exercise 2\n",
    "\n",
    "Create a function called `get_products` that receives the `daily_catch` list and a day as an integer, and returns the products fished that day.\n",
    "\n",
    "```python\n",
    "def get_products(daily_catch, int_day):\n",
    "    # your code here\n",
    "    return xxx\n",
    "```\n",
    "\n",
    "For example, if we call `get_products(daily_catch, 1)`, it should return `['cucumber', 'tuna', 'avocado', 'shrimp', 'tuna', 'carrot', 'shrimp', 'tuna']`"
   ]
  },
  {
   "cell_type": "code",
   "execution_count": null,
   "metadata": {},
   "outputs": [],
   "source": []
  },
  {
   "cell_type": "markdown",
   "metadata": {},
   "source": [
    "### Exercise 3\n",
    "\n",
    "Create a dictionary called `total_materials` where the keys are the products and the values are the amount of that product Dave has fished in the last 5 days.\n",
    "\n",
    "The solution is\n",
    "\n",
    "```python\n",
    "{'cucumber': 3, 'tuna': 9, 'avocado': 9, 'shrimp': 8, 'carrot': 5, 'salmon': 6}\n",
    "```"
   ]
  },
  {
   "cell_type": "code",
   "execution_count": null,
   "metadata": {},
   "outputs": [],
   "source": []
  },
  {
   "cell_type": "markdown",
   "metadata": {},
   "source": [
    "### Exercise 4\n",
    "\n",
    "The municipality imposes a tax on each product fished. The tax depends of the product, and is the following:\n",
    "\n",
    "* Fish (salmon, shrimp, salmon): 10 coins\n",
    "* Other (cucumber, avocado, carrot): 5 coins\n",
    "\n",
    "How many taxes did Dave pay in each day? Return a dictionary called `taxes_dict` with the day as the key and the amount of taxes as the value.\n",
    "\n",
    "The solution is:\n",
    "\n",
    "```python\n",
    "{'day1': 65, 'day2': 60, 'day3': 65, 'day4': 60, 'day5': 65}\n",
    "```"
   ]
  },
  {
   "cell_type": "code",
   "execution_count": null,
   "metadata": {},
   "outputs": [],
   "source": []
  },
  {
   "cell_type": "markdown",
   "metadata": {},
   "source": [
    "### Exercise 5\n",
    "\n",
    "After paying taxes, Dave sells the products to the sushi restaurant. The price paid for each product is the following:\n",
    "\n",
    "* Fish: 55 coins\n",
    "* Other: 15 coins\n",
    "\n",
    "Create a dictionary called `income_dict` where the keys are the days and the values are the amount of coins Dave got from selling the products.\n",
    "\n",
    "The solution is:\n",
    "\n",
    "```python\n",
    "{'day1': 320, 'day2': 280, 'day3': 320, 'day4': 280, 'day5': 320}\n",
    "```"
   ]
  },
  {
   "cell_type": "code",
   "execution_count": null,
   "metadata": {},
   "outputs": [],
   "source": []
  },
  {
   "cell_type": "markdown",
   "metadata": {},
   "source": [
    "### Exercise 6\n",
    "\n",
    "What is the total profit for Dave in the last 5 days?\n",
    "\n",
    "The profit is the sum of the income minus the taxes.\n",
    "\n",
    "The solution is:\n",
    "\n",
    "```python\n",
    "1205\n",
    "```"
   ]
  },
  {
   "cell_type": "code",
   "execution_count": null,
   "metadata": {},
   "outputs": [],
   "source": []
  },
  {
   "cell_type": "markdown",
   "metadata": {},
   "source": [
    "## The sushi restaurant part\n",
    "\n",
    "In this part, we are going to simulate Dave preparing sushi with the product he sold to the sushi restaurant before.\n",
    "\n",
    "The restaurant provides the rice and the seaweed, and the other products are the ones Dave fished in the past, stored in a freezer. Let's assume the freezer has *a lot* of product, we won't run out of product.\n",
    "\n",
    "The sushi recipes are the following:"
   ]
  },
  {
   "cell_type": "code",
   "execution_count": 2,
   "metadata": {},
   "outputs": [],
   "source": [
    "recipes = {\n",
    "    'sashimi': {\n",
    "        'ingredients': ['fish'],\n",
    "        'price': 15\n",
    "    },\n",
    "    'cucumber_salad':{\n",
    "        'ingredients': ['cucumber', 'soy sauce', 'sesame oil'],\n",
    "        'price': 10\n",
    "    },\n",
    "    'nigiri': {\n",
    "        'ingredients': ['fish', 'rice'],\n",
    "        'price': 20\n",
    "    },\n",
    "    'maki_roll': {\n",
    "        'ingredients': ['fish', 'rice', 'seaweed', 'soy sauce'],\n",
    "        'price': 25\n",
    "    }\n",
    "}"
   ]
  },
  {
   "cell_type": "markdown",
   "metadata": {},
   "source": [
    "### Exercise 7\n",
    "\n",
    "Create a function that receives a client's order as a list of strings and the recipes dictionary, and returns the total price of the order.\n",
    "\n",
    "An order could be `['sashimi', 'sashimi', 'maki', 'nigiri']`, and the price would be the sum of the prices of each item.\n",
    "\n",
    "```python\n",
    "def order_price(order, recipes):\n",
    "    # magic\n",
    "    return xxx\n",
    "```\n",
    "\n",
    "Test your function with this order `['sashimi', 'nigiri']` that should return 35."
   ]
  },
  {
   "cell_type": "code",
   "execution_count": null,
   "metadata": {},
   "outputs": [],
   "source": []
  },
  {
   "cell_type": "markdown",
   "metadata": {},
   "source": [
    "### Exercise 8\n",
    "\n",
    "A group of clients just sat down, and they all ordered. There are 5 clients in the group, and they want to pay individually. This is what each client ordered:"
   ]
  },
  {
   "cell_type": "code",
   "execution_count": 3,
   "metadata": {},
   "outputs": [],
   "source": [
    "group_orders = {\n",
    "    'client1': ['sashimi', 'nigiri', 'cucumber_salad'],\n",
    "    'client2': ['cucumber_salad', 'maki_roll'],\n",
    "    'client3': ['nigiri', 'maki_roll'],\n",
    "    'client4': ['sashimi', 'maki_roll'],\n",
    "    'client5': ['nigiri', 'maki_roll', 'cucumber_salad']\n",
    "}"
   ]
  },
  {
   "cell_type": "markdown",
   "metadata": {},
   "source": [
    "How much did each client pay? Return a dictionary called `client_price_dict` with the client as the key and the amount paid as the value.\n",
    "\n",
    "The solution is:\n",
    "\n",
    "```python\n",
    "{'client1': 45, 'client2': 35, 'client3': 45, 'client4': 40, 'client5': 55}\n",
    "```"
   ]
  },
  {
   "cell_type": "code",
   "execution_count": null,
   "metadata": {},
   "outputs": [],
   "source": []
  },
  {
   "cell_type": "markdown",
   "metadata": {},
   "source": [
    "How much is the total bill for the group?\n",
    "\n",
    "The solution is:\n",
    "\n",
    "```python\n",
    "220\n",
    "```"
   ]
  },
  {
   "cell_type": "code",
   "execution_count": null,
   "metadata": {},
   "outputs": [],
   "source": []
  },
  {
   "cell_type": "markdown",
   "metadata": {},
   "source": [
    "### Exercise 9\n",
    "\n",
    "Before paying, one of the clients suggests to split the bill evenly. Which of the clients would benefit from this?\n",
    "\n",
    "Basically you need to compare each client's price with the average price of the group.\n",
    "\n",
    "Use the dictionary created in the previous exercise to answer this question.\n",
    "\n",
    "The solutions is:\n",
    "\n",
    "```python\n",
    "['client1', 'client3', 'client5']\n",
    "```"
   ]
  },
  {
   "cell_type": "code",
   "execution_count": null,
   "metadata": {},
   "outputs": [],
   "source": []
  },
  {
   "cell_type": "markdown",
   "metadata": {},
   "source": [
    "### Exercise 10\n",
    "\n",
    "Create a function called `individual_dishes_in_order` that takes in the group order and returns a dictionary containing how many of each item was ordered.\n",
    "\n",
    "```python\n",
    "def individual_dishes_in_order(group_order):\n",
    "    # magic\n",
    "    return xxx\n",
    "```\n",
    "\n",
    "If you test this function with the group order, the solution should be:\n",
    "\n",
    "```python\n",
    "{'sashimi': 2, 'nigiri': 3, 'cucumber_salad': 3, 'maki_roll': 4}\n",
    "```"
   ]
  },
  {
   "cell_type": "code",
   "execution_count": null,
   "metadata": {},
   "outputs": [],
   "source": [
    "\n",
    "    "
   ]
  },
  {
   "cell_type": "markdown",
   "metadata": {},
   "source": [
    "### Exercise 11\n",
    "\n",
    "Create a new function called `individual_dishes_in_order_extended` that uses the previous function `individual_dishes_in_order` and the recipes dictionary to return a dictionary containing how many of each item was ordered, and the total price of that item.\n",
    "\n",
    "```python\n",
    "def individual_dishes_in_order(group_order, recipes):\n",
    "    # magic\n",
    "    return xxx\n",
    "```\n",
    "\n",
    "If you test this function with the group order and the recipes dictionary, the solution should be:\n",
    "\n",
    "```python\n",
    "{'sashimi': {'amount': 2, 'price': 30},\n",
    " 'nigiri': {'amount': 3, 'price': 60},\n",
    " 'cucumber_salad': {'amount': 3, 'price': 30},\n",
    " 'maki_roll': {'amount': 4, 'price': 100}}\n",
    "```"
   ]
  },
  {
   "cell_type": "code",
   "execution_count": null,
   "metadata": {},
   "outputs": [],
   "source": []
  },
  {
   "cell_type": "markdown",
   "metadata": {},
   "source": [
    "### Exercise 11\n",
    "\n",
    "The clients have a coupon that gives them a 15% discount on the whole bill or a 2 free maki rolls. Which option should they choose to pay less?"
   ]
  },
  {
   "cell_type": "code",
   "execution_count": null,
   "metadata": {},
   "outputs": [],
   "source": []
  },
  {
   "cell_type": "markdown",
   "metadata": {},
   "source": [
    "### Exercise 12\n",
    "\n",
    "The income of the restaurant in the last 5 days was as follows:\n",
    "\n",
    "```python\n",
    "income_5_days_dict = {'day1': 1100, 'day2': 1280, 'day3': 1320, 'day4': 900, 'day5': 1350}\n",
    "```\n",
    "\n",
    "Please return another dictionary with the accumulated income for each day in the last 5 days.\n",
    "\n",
    "The solution is:\n",
    "\n",
    "```python\n",
    "{'day1': 1100, 'day2': 2380, 'day3': 3700, 'day4': 4600, 'day5': 5950}\n",
    "```"
   ]
  },
  {
   "cell_type": "code",
   "execution_count": null,
   "metadata": {},
   "outputs": [],
   "source": []
  }
 ],
 "metadata": {
  "kernelspec": {
   "display_name": "pda",
   "language": "python",
   "name": "python3"
  },
  "language_info": {
   "codemirror_mode": {
    "name": "ipython",
    "version": 3
   },
   "file_extension": ".py",
   "mimetype": "text/x-python",
   "name": "python",
   "nbconvert_exporter": "python",
   "pygments_lexer": "ipython3",
   "version": "3.10.13"
  }
 },
 "nbformat": 4,
 "nbformat_minor": 2
}
