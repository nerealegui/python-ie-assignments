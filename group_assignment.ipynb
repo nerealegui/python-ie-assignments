{
 "cells": [
  {
   "cell_type": "markdown",
   "metadata": {},
   "source": [
    "# Group Assignment: Formula 1 Data\n",
    "\n",
    "Solve the questions regarding the `f1_data.csv` dataset. \n",
    "\n",
    "The full grade will be split as follows:\n",
    "* 60 % notebook, code, and explanations of the questions\n",
    "* 30 % presentation in class: quality of material, presentation, and Q&A\n",
    "    * The presentation has to be about one specific driver, constructor, or circuit. Build a data-based history about the driver/circuit/constructor and present it.\n",
    "    * You can present in any format you want: PPT, PDF, notebook, whatever\n",
    "* 10 % visualization to support the answers and the presentation\n",
    "\n",
    "The data is composed of the following variables:\n",
    "* `car_number`: the number of the car\n",
    "* `grid_starting_position`: the starting position of the car in the grid\n",
    "* `final_position`: the position in which that driver ended\n",
    "* `points`: the points earned by the driver in the race\n",
    "* `laps`: the number of laps completed by the driver\n",
    "* `total_race_time_ms`: the total time the driver took to complete the race in milliseconds\n",
    "* `fastest_lap`: the fastest lap completed by the driver\n",
    "* `rank`: the rank of the driver in the race\n",
    "* `fastest_lap_time`: the time taken to complete the fastest lap\n",
    "* `fastest_lap_speed`: the speed of the fastest lap\n",
    "* `year`: the year of the race\n",
    "* `race_number_season`: the number of the race in the season\n",
    "* `race_name`: the name of the race\n",
    "* `race_date`: the date of the race\n",
    "* `race_start_time`: the start time of the race\n",
    "* `circuit_name`: the name of the circuit where the race took place\n",
    "* `circuit_location`: the location of the circuit\n",
    "* `circuit_country`: the country where the circuit is located\n",
    "* `circuit_lat`: the latitude of the circuit\n",
    "* `circuit_lng`: the longitude of the circuit\n",
    "* `circuit_altitude`: the altitude of the circuit\n",
    "* `driver`: the name of the driver\n",
    "* `driver_dob`: the date of birth of the driver\n",
    "* `driver_nationality`: the nationality of the driver\n",
    "* `constructor_name`: the name of the constructor team\n",
    "* `constructor_nationality`: the nationality of the constructor team\n",
    "* `status`: the status of the driver in the race (e.g., Finished, Did Not Finish, etc.)\n",
    "\n",
    "**SUBMISSION: failing to comply with the submission format will result in a 0 grade**\n",
    "* ONE (1) SINGLE ZIP FILE containing:\n",
    "    * The notebook with the code and the answers\n",
    "    * The presentation itself (PPT, PDF, notebook, whatever)\n",
    "    * `f1_data.csv`\n",
    "* The ZIP file should be named as follows: `group_assignment_<group_id>.zip`\n",
    "  * For example, if you are group 1, the file should be named `group_assignment_1.zip`"
   ]
  },
  {
   "cell_type": "markdown",
   "metadata": {},
   "source": [
    "### 0. Group Information\n",
    "\n",
    "* Group ID\n",
    "* Members:\n",
    "  * ..."
   ]
  },
  {
   "cell_type": "markdown",
   "metadata": {},
   "source": [
    "### 1. Basic operations. (1 point)\n",
    "\n",
    "* Open the dataset as a pandas dataframe and show the first 10 rows\n",
    "* Show the number of rows and columns\n",
    "* Show the data types of each column\n",
    "* Calculate a column called `age` which represents the age of each driver on the date of the race:\n",
    "    * Hint1: use the `pd.to_datetime` function to convert the date columns to datetime\n",
    "    * Hint2: use the `driver_dob` and substract from it the `race_date` column\n",
    "    * Hint3: use the `dt.days` property to convert the result to days, then divide by 365.25 to get the age in years"
   ]
  },
  {
   "cell_type": "code",
   "execution_count": null,
   "metadata": {},
   "outputs": [],
   "source": []
  },
  {
   "cell_type": "markdown",
   "metadata": {},
   "source": [
    "### 2. Why do we have missing values in the `final_position` column? (1 point)"
   ]
  },
  {
   "cell_type": "code",
   "execution_count": null,
   "metadata": {},
   "outputs": [],
   "source": []
  },
  {
   "cell_type": "markdown",
   "metadata": {},
   "source": [
    "### 3. Constructor analytics (3 points)\n",
    "\n",
    "* Which constructor has the most race wins? (0.5 points)\n",
    "* Which constructor has the most podiums (position 1, 2, or 3)? (0.5 points)\n",
    "* Which constructor has the biggest probability of not finishing a race, according to the dataset? (0.5 points)\n",
    "* Which country has the most successful constructors in terms of race victories? (0.5 points)\n",
    "* Which are the current constructors (from 2023) with the longest history in Formula 1? (0.5 points)\n",
    "* Which is the constructor with the most drivers in Formula 1 across its history? (0.5 points)"
   ]
  },
  {
   "cell_type": "code",
   "execution_count": null,
   "metadata": {},
   "outputs": [],
   "source": []
  },
  {
   "cell_type": "markdown",
   "metadata": {},
   "source": [
    "### 4. Driver analytics (3 points)\n",
    "\n",
    "* With the data available, who is the fastest driver in Formula 1? (0.5 point)\n",
    "* Which is the driver with the most podiums without a win (position 2 or 3)? (0.5 point)\n",
    "* Calculate the historical probability of each country of having a driver in the podium (0.5 point)\n",
    "* Calculate the historical probability of each country of having a driver win a race (0.5 point)\n",
    "* Which driver was the youngest to win a race? (0.5 point)\n",
    "* Which drivers are the current ones with the longest history in Formula 1? (0.5 point)\n",
    "\n",
    "Hint: remember that a probability is calculated as the number of times an event happened divided by the total number of events"
   ]
  },
  {
   "cell_type": "code",
   "execution_count": null,
   "metadata": {},
   "outputs": [],
   "source": []
  },
  {
   "cell_type": "markdown",
   "metadata": {},
   "source": [
    "### 5. Circuit analytics (2 points)\n",
    "\n",
    "* Which would you say is the toughest circuit in Formula 1? (0.5 point)\n",
    "* Which circuit requires the most f1 experience to win? (0.5 point)\n",
    "* Which circuit and year saw the most number of non-finishers? (0.5 point)\n",
    "* For each constructor, which is their best circuit in terms of amount of podiums? (0.5 point)"
   ]
  },
  {
   "cell_type": "code",
   "execution_count": null,
   "metadata": {},
   "outputs": [],
   "source": []
  },
  {
   "cell_type": "markdown",
   "metadata": {},
   "source": [
    "## Code for the presentation goes here\n",
    "\n",
    "Build a data-based history about a driver/circuit/constructor and present it using your preferred format. You can use any of the data available in the dataset."
   ]
  },
  {
   "cell_type": "code",
   "execution_count": null,
   "metadata": {},
   "outputs": [],
   "source": [
    "..."
   ]
  }
 ],
 "metadata": {
  "kernelspec": {
   "display_name": "pda1",
   "language": "python",
   "name": "python3"
  },
  "language_info": {
   "codemirror_mode": {
    "name": "ipython",
    "version": 3
   },
   "file_extension": ".py",
   "mimetype": "text/x-python",
   "name": "python",
   "nbconvert_exporter": "python",
   "pygments_lexer": "ipython3",
   "version": "3.9.16"
  }
 },
 "nbformat": 4,
 "nbformat_minor": 2
}
