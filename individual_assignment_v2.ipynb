{
 "cells": [
  {
   "cell_type": "markdown",
   "metadata": {},
   "source": [
    "# Individual Assignment: Wine!\n",
    "\n",
    "There are 10 questions in this assignment. Some questions unlock others. If you can't answer a question, you can skip it and come back to it later, and if the question is locked, I'll provide a data sample for you to use, **at a cost of 0.5 points.**\n",
    "\n",
    "The wine dataset is available in the file `wine.json`. This data contains information about wine reviews. It's a list of dictionaries, where each dictionary represents a wine review. The keys in the dictionary are:\n",
    "\n",
    "* `points`: how many points the taster gave the wine on a scale of 1-100\n",
    "* `title`: the title of the wine\n",
    "* `description`: a description of the wine\n",
    "* `taster_name`: the name of the taster\n",
    "* `taster_twitter_handle`: the twitter handle of the taster\n",
    "* `price`: the cost for a bottle of the wine\n",
    "* `designation`: the vineyard within the winery where the grapes that made the wine are from\n",
    "* `variety`: the type of grapes used to make the wine\n",
    "* `region_1`: the province or state that the wine is from\n",
    "* `region_2`: a more specific region within a wine growing area\n",
    "* `province`: the province or state that the wine is from\n",
    "* `country`: the country that the wine is from\n",
    "* `winery`: the winery that made the wine\n",
    "\n",
    "\n",
    "\n",
    "### Rules:\n",
    "* For each question, print the answer in the cell below the question. You can use `print()` or just type the variable name.\n",
    "* You can use any resources you like --including the internet, your notes, and the past notebooks-- except ChatGPT/Copilot/other AI writing tools. Using AI-based tools or asking other people for help will result in a 0 for the assignment, an immediate Fail in the course, and a report to the Dean of Students.\n",
    "* You have 80 minutes to complete the assignment.\n",
    "* You can submit the assignment as many times as you like, only the last submission will be graded.\n",
    "* You can't work with other people on the assignment."
   ]
  },
  {
   "cell_type": "markdown",
   "metadata": {},
   "source": [
    "### 0. Load the data as a Python object and print the first item"
   ]
  },
  {
   "cell_type": "code",
   "execution_count": 5,
   "metadata": {},
   "outputs": [
    {
     "data": {
      "text/plain": [
       "{'points': 89,\n",
       " 'title': 'Caymus 1998 Cabernet Sauvignon (Napa Valley)',\n",
       " 'description': 'Creamy black cherry aromas layered with fresh brussel sprouts and spicy arugula flavors of red plums and toasted oak.',\n",
       " 'taster_name': None,\n",
       " 'taster_twitter_handle': None,\n",
       " 'price': 70,\n",
       " 'designation': None,\n",
       " 'variety': 'Cabernet Sauvignon',\n",
       " 'region_1': 'Napa Valley',\n",
       " 'region_2': 'Napa',\n",
       " 'province': 'California',\n",
       " 'country': 'US',\n",
       " 'winery': 'Caymus'}"
      ]
     },
     "execution_count": 5,
     "metadata": {},
     "output_type": "execute_result"
    }
   ],
   "source": [
    "import json\n",
    "with open('wine-data-set.json', encoding='utf-8') as json_file:\n",
    "    json_data = json.load(json_file)\n",
    "\n",
    "json_data[0]"
   ]
  },
  {
   "cell_type": "markdown",
   "metadata": {},
   "source": [
    "### 1. How many wine reviews are included in the dataset? (1 point)"
   ]
  },
  {
   "cell_type": "code",
   "execution_count": 6,
   "metadata": {},
   "outputs": [
    {
     "data": {
      "text/plain": [
       "10000"
      ]
     },
     "execution_count": 6,
     "metadata": {},
     "output_type": "execute_result"
    }
   ],
   "source": [
    "len(json_data)"
   ]
  },
  {
   "cell_type": "markdown",
   "metadata": {},
   "source": [
    "### 2. Add a new {key:value} pair in each item in the list (1 point)\n",
    "\n",
    "The new key should be called *length* and it should indicate the amount of words in the *description* value.\n",
    "\n",
    "For example, the following description:\n",
    "* \"Very strong taste like apple and cinnamon\"\n",
    "\n",
    "should have a *length* value of **7** "
   ]
  },
  {
   "cell_type": "code",
   "execution_count": 7,
   "metadata": {},
   "outputs": [
    {
     "data": {
      "text/plain": [
       "{'points': 89,\n",
       " 'title': 'Caymus 1998 Cabernet Sauvignon (Napa Valley)',\n",
       " 'description': 'Creamy black cherry aromas layered with fresh brussel sprouts and spicy arugula flavors of red plums and toasted oak.',\n",
       " 'taster_name': None,\n",
       " 'taster_twitter_handle': None,\n",
       " 'price': 70,\n",
       " 'designation': None,\n",
       " 'variety': 'Cabernet Sauvignon',\n",
       " 'region_1': 'Napa Valley',\n",
       " 'region_2': 'Napa',\n",
       " 'province': 'California',\n",
       " 'country': 'US',\n",
       " 'winery': 'Caymus',\n",
       " 'length': 19}"
      ]
     },
     "execution_count": 7,
     "metadata": {},
     "output_type": "execute_result"
    }
   ],
   "source": [
    "for elem in json_data:\n",
    "    elem[\"length\"] = len(elem[\"description\"].split())\n",
    "\n",
    "json_data[0]"
   ]
  },
  {
   "cell_type": "code",
   "execution_count": 10,
   "metadata": {},
   "outputs": [
    {
     "data": {
      "text/plain": [
       "{'points': 89,\n",
       " 'title': 'Caymus 1998 Cabernet Sauvignon (Napa Valley)',\n",
       " 'description': 'Creamy black cherry aromas layered with fresh brussel sprouts and spicy arugula flavors of red plums and toasted oak.',\n",
       " 'taster_name': None,\n",
       " 'taster_twitter_handle': None,\n",
       " 'price': 70,\n",
       " 'designation': None,\n",
       " 'variety': 'Cabernet Sauvignon',\n",
       " 'region_1': 'Napa Valley',\n",
       " 'region_2': 'Napa',\n",
       " 'province': 'California',\n",
       " 'country': 'US',\n",
       " 'winery': 'Caymus',\n",
       " 'length': 19}"
      ]
     },
     "execution_count": 10,
     "metadata": {},
     "output_type": "execute_result"
    }
   ],
   "source": [
    "def calculate_length_description(review):\n",
    "    review[\"length\"] = len(review[\"description\"].split())\n",
    "    return review\n",
    "\n",
    "new_reviews = [\n",
    "    calculate_length_description(review)\n",
    "    for review in json_data\n",
    "]\n",
    "\n",
    "new_reviews[0]"
   ]
  },
  {
   "cell_type": "code",
   "execution_count": 15,
   "metadata": {},
   "outputs": [
    {
     "data": {
      "text/plain": [
       "{'points': 89,\n",
       " 'title': 'Caymus 1998 Cabernet Sauvignon (Napa Valley)',\n",
       " 'description': 'Creamy black cherry aromas layered with fresh brussel sprouts and spicy arugula flavors of red plums and toasted oak.',\n",
       " 'taster_name': None,\n",
       " 'taster_twitter_handle': None,\n",
       " 'price': 70,\n",
       " 'designation': None,\n",
       " 'variety': 'Cabernet Sauvignon',\n",
       " 'region_1': 'Napa Valley',\n",
       " 'region_2': 'Napa',\n",
       " 'province': 'California',\n",
       " 'country': 'US',\n",
       " 'winery': 'Caymus',\n",
       " 'length': 19}"
      ]
     },
     "execution_count": 15,
     "metadata": {},
     "output_type": "execute_result"
    }
   ],
   "source": [
    "map_reviews = map(calculate_length_description, json_data)\n",
    "\n",
    "list(map_reviews)[0]"
   ]
  },
  {
   "cell_type": "markdown",
   "metadata": {},
   "source": [
    "### 3. How many different countries have their wines reviewed in the dataset? (1 point)"
   ]
  },
  {
   "cell_type": "code",
   "execution_count": 30,
   "metadata": {},
   "outputs": [
    {
     "data": {
      "text/plain": [
       "{'Argentina',\n",
       " 'Australia',\n",
       " 'Austria',\n",
       " 'Brazil',\n",
       " 'Bulgaria',\n",
       " 'Canada',\n",
       " 'Chile',\n",
       " 'China',\n",
       " 'Croatia',\n",
       " 'Czech Republic',\n",
       " 'England',\n",
       " 'France',\n",
       " 'Georgia',\n",
       " 'Germany',\n",
       " 'Greece',\n",
       " 'Hungary',\n",
       " 'India',\n",
       " 'Israel',\n",
       " 'Italy',\n",
       " 'Lebanon',\n",
       " 'Mexico',\n",
       " 'Moldova',\n",
       " 'New Zealand',\n",
       " None,\n",
       " 'Portugal',\n",
       " 'Romania',\n",
       " 'Serbia',\n",
       " 'Slovenia',\n",
       " 'South Africa',\n",
       " 'Spain',\n",
       " 'Turkey',\n",
       " 'US',\n",
       " 'Ukraine',\n",
       " 'Uruguay'}"
      ]
     },
     "execution_count": 30,
     "metadata": {},
     "output_type": "execute_result"
    }
   ],
   "source": [
    "different_countries = [\n",
    "    elem[\"country\"] for elem in json_data\n",
    "]\n",
    "\n",
    "countries = set(different_countries)\n",
    "\n",
    "len(countries) - 1 # because the country None still doesnt exist\n",
    "\n",
    "countries"
   ]
  },
  {
   "cell_type": "code",
   "execution_count": 20,
   "metadata": {},
   "outputs": [
    {
     "data": {
      "text/plain": [
       "33"
      ]
     },
     "execution_count": 20,
     "metadata": {},
     "output_type": "execute_result"
    }
   ],
   "source": [
    "different_countries = len(\n",
    "    set(\n",
    "        [\n",
    "            elem[\"country\"]\n",
    "            for elem in json_data\n",
    "            if elem[\"country\"] != None\n",
    "        ]\n",
    "    )\n",
    ")\n",
    "\n",
    "different_countries"
   ]
  },
  {
   "cell_type": "markdown",
   "metadata": {},
   "source": [
    "### 4. Build a dictionary with the following structure: (1 point)\n",
    "\n",
    "{country: number of wines reviewed coming from that country}"
   ]
  },
  {
   "cell_type": "code",
   "execution_count": 25,
   "metadata": {},
   "outputs": [
    {
     "data": {
      "text/plain": [
       "{'US': 4317,\n",
       " 'France': 1716,\n",
       " 'Chile': 362,\n",
       " 'Italy': 1432,\n",
       " 'Germany': 155,\n",
       " 'New Zealand': 100,\n",
       " 'South Africa': 111,\n",
       " 'Argentina': 319,\n",
       " 'Spain': 462,\n",
       " 'Portugal': 396,\n",
       " 'Austria': 287,\n",
       " 'Greece': 32,\n",
       " 'Australia': 165,\n",
       " 'Canada': 17,\n",
       " 'England': 11,\n",
       " 'Hungary': 13,\n",
       " 'Georgia': 7,\n",
       " 'Mexico': 10,\n",
       " 'Israel': 32,\n",
       " 'Bulgaria': 13,\n",
       " 'Brazil': 6,\n",
       " 'Uruguay': 3,\n",
       " 'Slovenia': 4,\n",
       " 'Ukraine': 2,\n",
       " 'Turkey': 4,\n",
       " 'Croatia': 2,\n",
       " 'Lebanon': 3,\n",
       " 'Romania': 6,\n",
       " 'Moldova': 2,\n",
       " 'Czech Republic': 3,\n",
       " 'Serbia': 1,\n",
       " 'India': 1,\n",
       " 'China': 1}"
      ]
     },
     "execution_count": 25,
     "metadata": {},
     "output_type": "execute_result"
    }
   ],
   "source": [
    "country_count = {}\n",
    "\n",
    "for review in json_data:\n",
    "    country = review[\"country\"]\n",
    "    if country in country_count and country != None:\n",
    "        country_count[country] += 1\n",
    "    elif country != None:\n",
    "        country_count[country] = 1\n",
    "\n",
    "country_count"
   ]
  },
  {
   "cell_type": "code",
   "execution_count": 29,
   "metadata": {},
   "outputs": [
    {
     "data": {
      "text/plain": [
       "{'Canada': 17,\n",
       " 'Lebanon': 3,\n",
       " 'Serbia': 1,\n",
       " 'Slovenia': 4,\n",
       " 'Mexico': 10,\n",
       " 'Turkey': 4,\n",
       " 'Portugal': 396,\n",
       " 'Ukraine': 2,\n",
       " 'New Zealand': 100,\n",
       " 'Bulgaria': 13,\n",
       " 'Germany': 155,\n",
       " 'Croatia': 2,\n",
       " 'Australia': 165,\n",
       " 'China': 1,\n",
       " 'England': 11,\n",
       " 'India': 1,\n",
       " 'Brazil': 6,\n",
       " 'South Africa': 111,\n",
       " 'Chile': 362,\n",
       " 'Czech Republic': 3,\n",
       " 'Israel': 32,\n",
       " 'Austria': 287,\n",
       " 'Argentina': 319,\n",
       " 'US': 4317,\n",
       " 'Romania': 6,\n",
       " 'Italy': 1432,\n",
       " 'France': 1716,\n",
       " 'Georgia': 7,\n",
       " 'Uruguay': 3,\n",
       " 'Moldova': 2,\n",
       " 'Hungary': 13,\n",
       " 'Greece': 32,\n",
       " 'Spain': 462}"
      ]
     },
     "execution_count": 29,
     "metadata": {},
     "output_type": "execute_result"
    }
   ],
   "source": [
    "diff_countries = {}\n",
    "\n",
    "for country in countries:\n",
    "    diff_countries[country] = 0\n",
    "    for element in json_data:\n",
    "        if country == element[\"country\"]:\n",
    "            diff_countries[country] += 1\n",
    "\n",
    "\n",
    "del diff_countries[]"
   ]
  },
  {
   "cell_type": "markdown",
   "metadata": {},
   "source": [
    "### 5. Build a dictionary with the following structure (1 point)\n",
    "{country: average points of wines coming from that country]"
   ]
  },
  {
   "cell_type": "code",
   "execution_count": 36,
   "metadata": {},
   "outputs": [
    {
     "data": {
      "text/plain": [
       "{'Canada': 88.94117647058823,\n",
       " 'Lebanon': 87.0,\n",
       " 'Serbia': 86.0,\n",
       " 'Slovenia': 87.0,\n",
       " 'Mexico': 84.5,\n",
       " 'Turkey': 87.5,\n",
       " 'Portugal': 88.02525252525253,\n",
       " 'Ukraine': 84.0,\n",
       " 'New Zealand': 88.3,\n",
       " 'Bulgaria': 88.23076923076923,\n",
       " 'Germany': 89.83225806451613,\n",
       " 'Croatia': 81.5,\n",
       " 'Australia': 88.4969696969697,\n",
       " 'China': 89.0,\n",
       " 'England': 91.72727272727273,\n",
       " 'India': 92.0,\n",
       " 'Brazil': 85.66666666666667,\n",
       " 'South Africa': 88.03603603603604,\n",
       " 'Chile': 86.29558011049724,\n",
       " 'Czech Republic': 88.0,\n",
       " 'Israel': 88.71875,\n",
       " 'Austria': 90.82229965156795,\n",
       " 'Argentina': 86.68025078369907,\n",
       " 'US': 88.54829742876998,\n",
       " 'Romania': 86.83333333333333,\n",
       " 'Italy': 88.27374301675978,\n",
       " 'France': 88.91433566433567,\n",
       " 'Georgia': 87.28571428571429,\n",
       " 'Uruguay': 87.33333333333333,\n",
       " 'Moldova': 87.0,\n",
       " 'Hungary': 89.53846153846153,\n",
       " 'Greece': 87.125,\n",
       " None: 89.2,\n",
       " 'Spain': 87.16666666666667}"
      ]
     },
     "execution_count": 36,
     "metadata": {},
     "output_type": "execute_result"
    }
   ],
   "source": [
    "new_dict = {country: [0, 0] for country in countries}\n",
    "\n",
    "for review in json_data:\n",
    "    new_dict[review[\"country\"]][0] += 1\n",
    "    new_dict[review[\"country\"]][1] += review[\"points\"]\n",
    "\n",
    "avg_dict = {}\n",
    "\n",
    "for country in new_dict:\n",
    "    average = new_dict[country][1] / new_dict[country][0]\n",
    "    avg_dict[country] = average\n",
    "\n",
    "avg_dict"
   ]
  },
  {
   "cell_type": "markdown",
   "metadata": {},
   "source": [
    "### 6. What's the province that produces the wines with the highest rating? (1 point)\n",
    "\n",
    "Build a dictionary with the following structure:\n",
    "\n",
    "{province: average points of wines coming from that province}\n",
    "\n",
    "And then sort the dictionary by the average points, and print the province with the highest average points.\n",
    "\n",
    "Hint: you can sort a dictionary by value using the following code:\n",
    "\n",
    "```\n",
    "sorted_dict = sorted(my_dict.items(), key=lambda x: x[1], reverse=True)\n",
    "```"
   ]
  },
  {
   "cell_type": "code",
   "execution_count": 43,
   "metadata": {},
   "outputs": [
    {
     "data": {
      "text/plain": [
       "['Südburgenland', 'Madeira']"
      ]
     },
     "execution_count": 43,
     "metadata": {},
     "output_type": "execute_result"
    }
   ],
   "source": [
    "provinces = {element[\"province\"] for element in json_data}\n",
    "\n",
    "new_dict = {province: [0, 0] for province in provinces}\n",
    "\n",
    "for review in json_data:\n",
    "    new_dict[review[\"province\"]][0] += 1\n",
    "    new_dict[review[\"province\"]][1] += review[\"points\"]\n",
    "\n",
    "avg_dict = {}\n",
    "\n",
    "for province in new_dict:\n",
    "    average = new_dict[province][1] / new_dict[province][0]\n",
    "    avg_dict[province] = average\n",
    "\n",
    "highest_rating = max(avg_dict.values())\n",
    "\n",
    "[prov for prov in avg_dict if avg_dict[prov] >= highest_rating]"
   ]
  },
  {
   "cell_type": "markdown",
   "metadata": {},
   "source": [
    "### 7. Update each wine's description by adding at the end of each description the following piece of text (1 point):\n",
    "\n",
    "\"This is a {designation} from {country} that scored {points} points\""
   ]
  },
  {
   "cell_type": "code",
   "execution_count": 46,
   "metadata": {},
   "outputs": [
    {
     "data": {
      "text/plain": [
       "{'points': 89,\n",
       " 'title': 'Caymus 1998 Cabernet Sauvignon (Napa Valley)',\n",
       " 'description': 'Creamy black cherry aromas layered with fresh brussel sprouts and spicy arugula flavors of red plums and toasted oak.',\n",
       " 'taster_name': None,\n",
       " 'taster_twitter_handle': None,\n",
       " 'price': 70,\n",
       " 'designation': None,\n",
       " 'variety': 'Cabernet Sauvignon',\n",
       " 'region_1': 'Napa Valley',\n",
       " 'region_2': 'Napa',\n",
       " 'province': 'California',\n",
       " 'country': 'US',\n",
       " 'winery': 'Caymus',\n",
       " 'length': 19}"
      ]
     },
     "execution_count": 46,
     "metadata": {},
     "output_type": "execute_result"
    }
   ],
   "source": [
    "json_data[0]"
   ]
  },
  {
   "cell_type": "code",
   "execution_count": 49,
   "metadata": {},
   "outputs": [
    {
     "data": {
      "text/plain": [
       "'Creamy black cherry aromas layered with fresh brussel sprouts and spicy arugula flavors of red plums and toasted oak.This is a None from US that scored 89 points This is a None from US that scored 89 pointsThis is a None from US that scored 89 points'"
      ]
     },
     "execution_count": 49,
     "metadata": {},
     "output_type": "execute_result"
    }
   ],
   "source": [
    "for review in json_data:\n",
    "    designation = review[\"designation\"]\n",
    "    country = review[\"country\"]\n",
    "    points = review[\"points\"]\n",
    "    extra_description = f\"This is a {designation} from {country} that scored {points} points\"\n",
    "\n",
    "    review[\"description\"] = review[\"description\"] + extra_description\n",
    "\n",
    "json_data[0][\"description\"]"
   ]
  },
  {
   "cell_type": "markdown",
   "metadata": {},
   "source": [
    "### 8. What's the proportion of wine tasters that have a Twitter account? (1 point)"
   ]
  },
  {
   "cell_type": "code",
   "execution_count": 50,
   "metadata": {},
   "outputs": [
    {
     "data": {
      "text/plain": [
       "{'points': 89,\n",
       " 'title': 'Caymus 1998 Cabernet Sauvignon (Napa Valley)',\n",
       " 'description': 'Creamy black cherry aromas layered with fresh brussel sprouts and spicy arugula flavors of red plums and toasted oak.This is a None from US that scored 89 points This is a None from US that scored 89 pointsThis is a None from US that scored 89 points',\n",
       " 'taster_name': None,\n",
       " 'taster_twitter_handle': None,\n",
       " 'price': 70,\n",
       " 'designation': None,\n",
       " 'variety': 'Cabernet Sauvignon',\n",
       " 'region_1': 'Napa Valley',\n",
       " 'region_2': 'Napa',\n",
       " 'province': 'California',\n",
       " 'country': 'US',\n",
       " 'winery': 'Caymus',\n",
       " 'length': 19}"
      ]
     },
     "execution_count": 50,
     "metadata": {},
     "output_type": "execute_result"
    }
   ],
   "source": [
    "json_data[0]"
   ]
  },
  {
   "cell_type": "code",
   "execution_count": 56,
   "metadata": {},
   "outputs": [
    {
     "name": "stdout",
     "output_type": "stream",
     "text": [
      "0.7777777777777778\n"
     ]
    }
   ],
   "source": [
    "unique_twitter_handles = {\n",
    "    review[\"taster_twitter_handle\"] for review in json_data\n",
    "    if review[\"taster_twitter_handle\"] != None\n",
    "}\n",
    "\n",
    "unique_tasters = {\n",
    "    review[\"taster_name\"] for review in json_data\n",
    "    if review[\"taster_name\"] != None\n",
    "}\n",
    "\n",
    "proportion = len(unique_twitter_handles) / len(unique_tasters)\n",
    "\n",
    "print(proportion)"
   ]
  },
  {
   "cell_type": "markdown",
   "metadata": {},
   "source": [
    "### Question 9 (1 point)\n",
    "\n",
    "* Create a function called `affordable_wines` that receives the wines reviews list and a specific budget, and returns how many wines you can buy with that price. (0.5 points) \n",
    "* Create another function called `twitter_presence` that receives the wines reviews list and a wine name and returns True if the wine has a twitter handle for the taster, and False otherwise. (0.5 points)\n",
    "\n",
    "Prove your functions with these examples:\n",
    "\n",
    "* `affordable_wines(wines, 10)` should return 423 wines in that budget\n",
    "* `twitter_presence(wines, \"Nicosia 2013 Vulkà Bianco  (Etna)\")` should return True, meaning there is a twitter handle for the taster of that wine"
   ]
  },
  {
   "cell_type": "code",
   "execution_count": 58,
   "metadata": {},
   "outputs": [
    {
     "data": {
      "text/plain": [
       "423"
      ]
     },
     "execution_count": 58,
     "metadata": {},
     "output_type": "execute_result"
    }
   ],
   "source": [
    "def affordable_wines(reviews, budget):\n",
    "    counter = 0\n",
    "    for review in reviews:\n",
    "        if review[\"price\"] != None and review[\"price\"] <= budget:\n",
    "            counter += 1\n",
    "    return counter\n",
    "\n",
    "affordable_wines(json_data, 10)"
   ]
  },
  {
   "cell_type": "markdown",
   "metadata": {},
   "source": [
    "### Question 10 (1 point)\n",
    "\n",
    "* Which is the most common variety of wine in the dataset? (0.3 points)\n",
    "* Which is the most expensive wine in the dataset? (0.3 points)\n",
    "* Which is the taster (other than `None`) that has reviewed the most wines? (0.4 points)"
   ]
  },
  {
   "cell_type": "code",
   "execution_count": null,
   "metadata": {},
   "outputs": [],
   "source": []
  }
 ],
 "metadata": {
  "interpreter": {
   "hash": "a9f295c814a5ce7ff0b0a20f2b13117bfaf008fc7980e281f2c2bfa8e9ec0fbf"
  },
  "kernelspec": {
   "display_name": "Python [conda env:ml2] *",
   "language": "python",
   "name": "python3"
  },
  "language_info": {
   "codemirror_mode": {
    "name": "ipython",
    "version": 3
   },
   "file_extension": ".py",
   "mimetype": "text/x-python",
   "name": "python",
   "nbconvert_exporter": "python",
   "pygments_lexer": "ipython3",
   "version": "3.10.13"
  }
 },
 "nbformat": 4,
 "nbformat_minor": 4
}
